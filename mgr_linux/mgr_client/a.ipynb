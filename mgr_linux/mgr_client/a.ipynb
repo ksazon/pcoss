{
 "nbformat": 4,
 "nbformat_minor": 2,
 "metadata": {
  "language_info": {
   "name": "python",
   "codemirror_mode": {
    "name": "ipython",
    "version": 3
   },
   "version": "3.8.5-final"
  },
  "orig_nbformat": 2,
  "file_extension": ".py",
  "mimetype": "text/x-python",
  "name": "python",
  "npconvert_exporter": "python",
  "pygments_lexer": "ipython3",
  "version": 3,
  "kernelspec": {
   "name": "python_defaultSpec_1599692727928",
   "display_name": "Python 3.8.5 64-bit ('base': conda)"
  }
 },
 "cells": [
  {
   "cell_type": "code",
   "execution_count": 2,
   "metadata": {},
   "outputs": [],
   "source": [
    "import numpy as np\n",
    "from multiprocessing import Pool\n",
    "import time\n",
    "# import math"
   ]
  },
  {
   "cell_type": "code",
   "execution_count": 2,
   "metadata": {},
   "outputs": [],
   "source": [
    "# del(ar)"
   ]
  },
  {
   "cell_type": "code",
   "execution_count": 7,
   "metadata": {},
   "outputs": [],
   "source": [
    "ar = np.random.rand(1*10**8, 5)"
   ]
  },
  {
   "cell_type": "code",
   "execution_count": 10,
   "metadata": {},
   "outputs": [
    {
     "name": "stdout",
     "output_type": "stream",
     "text": "5.281645850000132\n"
    }
   ],
   "source": [
    "with Pool(5) as p:\n",
    "    ts = time.monotonic()\n",
    "    u = p.map(\n",
    "        np.mean,\n",
    "        [ar[:,0], ar[:,1], ar[:,2]]\n",
    "        )\n",
    "    te = time.monotonic()\n",
    "    print(te-ts)"
   ]
  },
  {
   "cell_type": "code",
   "execution_count": 8,
   "metadata": {},
   "outputs": [
    {
     "name": "stdout",
     "output_type": "stream",
     "text": "1.362557447000654\n"
    }
   ],
   "source": [
    "ts2 = time.monotonic()\n",
    "z = (np.mean(ar[:,0]), np.mean(ar[:,1]), np.mean(ar[:,2]))\n",
    "te2 = time.monotonic()\n",
    "print(te2-ts2)"
   ]
  },
  {
   "cell_type": "code",
   "execution_count": 17,
   "metadata": {},
   "outputs": [
    {
     "output_type": "execute_result",
     "data": {
      "text/plain": "(array([0, 0, 2, 0, 2, 1, 2, 1, 1, 2, 0, 1], dtype=int64),\n array([0, 1, 1, 2, 0, 3, 2, 2, 1, 3, 3, 0], dtype=int64))"
     },
     "metadata": {},
     "execution_count": 17
    }
   ],
   "source": [
    "a = np.random.random(size=(3,4)) * 100\n",
    "np.unravel_index(np.argsort(a, axis=None), shape=(3,4))"
   ]
  },
  {
   "cell_type": "code",
   "execution_count": 18,
   "metadata": {},
   "outputs": [
    {
     "output_type": "execute_result",
     "data": {
      "text/plain": "array([[ 5.06752616,  8.12286646, 12.28115727, 53.68470546],\n       [61.5426377 , 39.77893808, 38.67174059, 19.79147191],\n       [16.34276311, 11.51452855, 31.34014915, 44.62405   ]])"
     },
     "metadata": {},
     "execution_count": 18
    }
   ],
   "source": [
    "a"
   ]
  },
  {
   "cell_type": "code",
   "execution_count": null,
   "metadata": {},
   "outputs": [],
   "source": []
  }
 ]
}