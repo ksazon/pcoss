{
 "metadata": {
  "language_info": {
   "codemirror_mode": {
    "name": "ipython",
    "version": 3
   },
   "file_extension": ".py",
   "mimetype": "text/x-python",
   "name": "python",
   "nbconvert_exporter": "python",
   "pygments_lexer": "ipython3",
   "version": "3.8.5-final"
  },
  "orig_nbformat": 2,
  "kernelspec": {
   "name": "python_defaultSpec_1600119505014",
   "display_name": "Python 3.8.5 64-bit ('ProgramData': virtualenv)"
  }
 },
 "nbformat": 4,
 "nbformat_minor": 2,
 "cells": [
  {
   "cell_type": "code",
   "execution_count": 36,
   "metadata": {},
   "outputs": [],
   "source": [
    "import pandas as pd\n",
    "import numpy as np\n",
    "import toml\n",
    "from os.path import join\n",
    "import glob\n",
    "import seaborn as sns\n",
    "\n",
    "sns.set_theme(style=\"darkgrid\")"
   ]
  },
  {
   "cell_type": "code",
   "execution_count": 39,
   "metadata": {},
   "outputs": [],
   "source": [
    "jobs_max_size = 128\n",
    "machines_max_size = 16\n",
    "dir_path = r'../data/auto/'"
   ]
  },
  {
   "cell_type": "code",
   "execution_count": 50,
   "metadata": {
    "tags": []
   },
   "outputs": [],
   "source": [
    "sizes = lambda size: [int(2**i) for i in range(1, int(np.log2(size)+1))]\n",
    "job_sizes = sizes(jobs_max_size)\n",
    "machine_sizes = sizes(machines_max_size)\n",
    "conflicting_machines = {\n",
    "    1: [],\n",
    "    2: [],\n",
    "    4: [(1, 2)],\n",
    "    8: [(1, 2), (5, 7)],\n",
    "    16: [(1, 2), (5, 7), (9, 10), (13, 14)],\n",
    "    32: [(1, 2), (5, 7), (9, 10), (13, 14), (15, 16), (17, 18), (20, 25), (27, 30)]\n",
    "}\n",
    "\n",
    "for jobs_cnt in job_sizes:\n",
    "    for machines_cnt in machine_sizes:\n",
    "        file_name = f'{jobs_cnt}j{machines_cnt}m0'\n",
    "        csv_file_path = f'{join(dir_path, file_name)}.csv'\n",
    "\n",
    "        np.savetxt(\n",
    "            csv_file_path,\n",
    "            np.random.rand(jobs_cnt, machines_cnt) * 100,\n",
    "            fmt='%.2f',\n",
    "            delimiter=',')\n",
    "\n",
    "        toml_dict = {\n",
    "            'title': file_name,\n",
    "            'info': f'{jobs_cnt} jobs {machines_cnt} machines example 0',\n",
    "            'files':\n",
    "            {\n",
    "                'data': csv_file_path,\n",
    "                'processing_times': csv_file_path\n",
    "            },\n",
    "            'problem_data':\n",
    "            {\n",
    "                'index_cols': [],\n",
    "                'grouping_cols': [],\n",
    "                'conflicting_machines': conflicting_machines[machines_cnt]\n",
    "            },\n",
    "            'algorithm_config':\n",
    "            {\n",
    "                'beam_witdh': 5\n",
    "            },\n",
    "        }\n",
    "\n",
    "        with open(join(dir_path, f'{file_name}.toml'), 'w') as f:\n",
    "            f.write(toml.dumps(toml_dict).replace(',]', ' ]'))"
   ]
  },
  {
   "cell_type": "code",
   "execution_count": 51,
   "metadata": {},
   "outputs": [
    {
     "output_type": "execute_result",
     "data": {
      "text/plain": "['../data/auto\\\\128j16m0.toml',\n '../data/auto\\\\128j2m0.toml',\n '../data/auto\\\\128j4m0.toml',\n '../data/auto\\\\128j8m0.toml',\n '../data/auto\\\\16j16m0.toml',\n '../data/auto\\\\16j2m0.toml',\n '../data/auto\\\\16j4m0.toml',\n '../data/auto\\\\16j8m0.toml',\n '../data/auto\\\\2j16m0.toml',\n '../data/auto\\\\2j2m0.toml',\n '../data/auto\\\\2j4m0.toml',\n '../data/auto\\\\2j8m0.toml',\n '../data/auto\\\\32j16m0.toml',\n '../data/auto\\\\32j2m0.toml',\n '../data/auto\\\\32j4m0.toml',\n '../data/auto\\\\32j8m0.toml',\n '../data/auto\\\\4j16m0.toml',\n '../data/auto\\\\4j2m0.toml',\n '../data/auto\\\\4j4m0.toml',\n '../data/auto\\\\4j8m0.toml',\n '../data/auto\\\\64j16m0.toml',\n '../data/auto\\\\64j2m0.toml',\n '../data/auto\\\\64j4m0.toml',\n '../data/auto\\\\64j8m0.toml',\n '../data/auto\\\\8j16m0.toml',\n '../data/auto\\\\8j2m0.toml',\n '../data/auto\\\\8j4m0.toml',\n '../data/auto\\\\8j8m0.toml']"
     },
     "metadata": {},
     "execution_count": 51
    }
   ],
   "source": [
    "glob.glob(r'../data/auto/*.toml')"
   ]
  },
  {
   "cell_type": "code",
   "execution_count": 68,
   "metadata": {},
   "outputs": [
    {
     "output_type": "execute_result",
     "data": {
      "text/plain": "                          file    prep_time  max_end_time\n0   ../data/auto\\128j16m0.toml  4523.627438      972069.0\n1    ../data/auto\\128j2m0.toml   431.677663      824552.0\n2    ../data/auto\\128j4m0.toml  1006.711800      882949.0\n3    ../data/auto\\128j8m0.toml  1934.950913      909126.0\n4    ../data/auto\\16j16m0.toml     1.690686      143070.0\n5     ../data/auto\\16j2m0.toml     0.205009      109056.0\n6     ../data/auto\\16j4m0.toml     0.437964      115703.0\n7     ../data/auto\\16j8m0.toml     0.896021      133131.0\n8     ../data/auto\\2j16m0.toml     0.005046       19867.0\n9      ../data/auto\\2j2m0.toml     0.001276        7103.0\n10     ../data/auto\\2j4m0.toml     0.001619       16297.0\n11     ../data/auto\\2j8m0.toml     0.002197       20095.0\n12   ../data/auto\\32j16m0.toml    19.684068      332060.0\n13    ../data/auto\\32j2m0.toml     2.137118      192940.0\n14    ../data/auto\\32j4m0.toml     4.632057      264553.0\n15    ../data/auto\\32j8m0.toml     9.841995      293744.0\n16    ../data/auto\\4j16m0.toml     0.035184       31377.0\n17     ../data/auto\\4j2m0.toml     0.004535       20691.0\n18     ../data/auto\\4j4m0.toml     0.008819       26224.0\n19     ../data/auto\\4j8m0.toml     0.015997       29153.0\n20   ../data/auto\\64j16m0.toml   253.817460      536958.0\n21    ../data/auto\\64j2m0.toml    28.951893      374115.0\n22    ../data/auto\\64j4m0.toml    64.656487      455926.0\n23    ../data/auto\\64j8m0.toml   123.805911      486282.0\n24    ../data/auto\\8j16m0.toml     0.210440       74315.0\n25     ../data/auto\\8j2m0.toml     0.025945       53364.0\n26     ../data/auto\\8j4m0.toml     0.049527       53081.0\n27     ../data/auto\\8j8m0.toml     0.103826       63297.0",
      "text/html": "<div>\n<style scoped>\n    .dataframe tbody tr th:only-of-type {\n        vertical-align: middle;\n    }\n\n    .dataframe tbody tr th {\n        vertical-align: top;\n    }\n\n    .dataframe thead th {\n        text-align: right;\n    }\n</style>\n<table border=\"1\" class=\"dataframe\">\n  <thead>\n    <tr style=\"text-align: right;\">\n      <th></th>\n      <th>file</th>\n      <th>prep_time</th>\n      <th>max_end_time</th>\n    </tr>\n  </thead>\n  <tbody>\n    <tr>\n      <th>0</th>\n      <td>../data/auto\\128j16m0.toml</td>\n      <td>4523.627438</td>\n      <td>972069.0</td>\n    </tr>\n    <tr>\n      <th>1</th>\n      <td>../data/auto\\128j2m0.toml</td>\n      <td>431.677663</td>\n      <td>824552.0</td>\n    </tr>\n    <tr>\n      <th>2</th>\n      <td>../data/auto\\128j4m0.toml</td>\n      <td>1006.711800</td>\n      <td>882949.0</td>\n    </tr>\n    <tr>\n      <th>3</th>\n      <td>../data/auto\\128j8m0.toml</td>\n      <td>1934.950913</td>\n      <td>909126.0</td>\n    </tr>\n    <tr>\n      <th>4</th>\n      <td>../data/auto\\16j16m0.toml</td>\n      <td>1.690686</td>\n      <td>143070.0</td>\n    </tr>\n    <tr>\n      <th>5</th>\n      <td>../data/auto\\16j2m0.toml</td>\n      <td>0.205009</td>\n      <td>109056.0</td>\n    </tr>\n    <tr>\n      <th>6</th>\n      <td>../data/auto\\16j4m0.toml</td>\n      <td>0.437964</td>\n      <td>115703.0</td>\n    </tr>\n    <tr>\n      <th>7</th>\n      <td>../data/auto\\16j8m0.toml</td>\n      <td>0.896021</td>\n      <td>133131.0</td>\n    </tr>\n    <tr>\n      <th>8</th>\n      <td>../data/auto\\2j16m0.toml</td>\n      <td>0.005046</td>\n      <td>19867.0</td>\n    </tr>\n    <tr>\n      <th>9</th>\n      <td>../data/auto\\2j2m0.toml</td>\n      <td>0.001276</td>\n      <td>7103.0</td>\n    </tr>\n    <tr>\n      <th>10</th>\n      <td>../data/auto\\2j4m0.toml</td>\n      <td>0.001619</td>\n      <td>16297.0</td>\n    </tr>\n    <tr>\n      <th>11</th>\n      <td>../data/auto\\2j8m0.toml</td>\n      <td>0.002197</td>\n      <td>20095.0</td>\n    </tr>\n    <tr>\n      <th>12</th>\n      <td>../data/auto\\32j16m0.toml</td>\n      <td>19.684068</td>\n      <td>332060.0</td>\n    </tr>\n    <tr>\n      <th>13</th>\n      <td>../data/auto\\32j2m0.toml</td>\n      <td>2.137118</td>\n      <td>192940.0</td>\n    </tr>\n    <tr>\n      <th>14</th>\n      <td>../data/auto\\32j4m0.toml</td>\n      <td>4.632057</td>\n      <td>264553.0</td>\n    </tr>\n    <tr>\n      <th>15</th>\n      <td>../data/auto\\32j8m0.toml</td>\n      <td>9.841995</td>\n      <td>293744.0</td>\n    </tr>\n    <tr>\n      <th>16</th>\n      <td>../data/auto\\4j16m0.toml</td>\n      <td>0.035184</td>\n      <td>31377.0</td>\n    </tr>\n    <tr>\n      <th>17</th>\n      <td>../data/auto\\4j2m0.toml</td>\n      <td>0.004535</td>\n      <td>20691.0</td>\n    </tr>\n    <tr>\n      <th>18</th>\n      <td>../data/auto\\4j4m0.toml</td>\n      <td>0.008819</td>\n      <td>26224.0</td>\n    </tr>\n    <tr>\n      <th>19</th>\n      <td>../data/auto\\4j8m0.toml</td>\n      <td>0.015997</td>\n      <td>29153.0</td>\n    </tr>\n    <tr>\n      <th>20</th>\n      <td>../data/auto\\64j16m0.toml</td>\n      <td>253.817460</td>\n      <td>536958.0</td>\n    </tr>\n    <tr>\n      <th>21</th>\n      <td>../data/auto\\64j2m0.toml</td>\n      <td>28.951893</td>\n      <td>374115.0</td>\n    </tr>\n    <tr>\n      <th>22</th>\n      <td>../data/auto\\64j4m0.toml</td>\n      <td>64.656487</td>\n      <td>455926.0</td>\n    </tr>\n    <tr>\n      <th>23</th>\n      <td>../data/auto\\64j8m0.toml</td>\n      <td>123.805911</td>\n      <td>486282.0</td>\n    </tr>\n    <tr>\n      <th>24</th>\n      <td>../data/auto\\8j16m0.toml</td>\n      <td>0.210440</td>\n      <td>74315.0</td>\n    </tr>\n    <tr>\n      <th>25</th>\n      <td>../data/auto\\8j2m0.toml</td>\n      <td>0.025945</td>\n      <td>53364.0</td>\n    </tr>\n    <tr>\n      <th>26</th>\n      <td>../data/auto\\8j4m0.toml</td>\n      <td>0.049527</td>\n      <td>53081.0</td>\n    </tr>\n    <tr>\n      <th>27</th>\n      <td>../data/auto\\8j8m0.toml</td>\n      <td>0.103826</td>\n      <td>63297.0</td>\n    </tr>\n  </tbody>\n</table>\n</div>"
     },
     "metadata": {},
     "execution_count": 68
    }
   ],
   "source": [
    "op_times_df = (\n",
    "    pd.read_csv('testing_times.csv', usecols=['0','1','2'])\n",
    "    .rename(columns={'0': 'file', '1': 'prep_time', '2': 'max_end_time'})\n",
    ")\n",
    "op_times_df"
   ]
  },
  {
   "cell_type": "code",
   "execution_count": 65,
   "metadata": {},
   "outputs": [
    {
     "output_type": "execute_result",
     "data": {
      "text/plain": "                             0            1         2\n0   ../data/auto\\128j16m0.toml  4523.627438  972069.0\n1    ../data/auto\\128j2m0.toml   431.677663  824552.0\n2    ../data/auto\\128j4m0.toml  1006.711800  882949.0\n3    ../data/auto\\128j8m0.toml  1934.950913  909126.0\n4    ../data/auto\\16j16m0.toml     1.690686  143070.0\n5     ../data/auto\\16j2m0.toml     0.205009  109056.0\n6     ../data/auto\\16j4m0.toml     0.437964  115703.0\n7     ../data/auto\\16j8m0.toml     0.896021  133131.0\n8     ../data/auto\\2j16m0.toml     0.005046   19867.0\n9      ../data/auto\\2j2m0.toml     0.001276    7103.0\n10     ../data/auto\\2j4m0.toml     0.001619   16297.0\n11     ../data/auto\\2j8m0.toml     0.002197   20095.0\n12   ../data/auto\\32j16m0.toml    19.684068  332060.0\n13    ../data/auto\\32j2m0.toml     2.137118  192940.0\n14    ../data/auto\\32j4m0.toml     4.632057  264553.0\n15    ../data/auto\\32j8m0.toml     9.841995  293744.0\n16    ../data/auto\\4j16m0.toml     0.035184   31377.0\n17     ../data/auto\\4j2m0.toml     0.004535   20691.0\n18     ../data/auto\\4j4m0.toml     0.008819   26224.0\n19     ../data/auto\\4j8m0.toml     0.015997   29153.0\n20   ../data/auto\\64j16m0.toml   253.817460  536958.0\n21    ../data/auto\\64j2m0.toml    28.951893  374115.0\n22    ../data/auto\\64j4m0.toml    64.656487  455926.0\n23    ../data/auto\\64j8m0.toml   123.805911  486282.0\n24    ../data/auto\\8j16m0.toml     0.210440   74315.0\n25     ../data/auto\\8j2m0.toml     0.025945   53364.0\n26     ../data/auto\\8j4m0.toml     0.049527   53081.0\n27     ../data/auto\\8j8m0.toml     0.103826   63297.0",
      "text/html": "<div>\n<style scoped>\n    .dataframe tbody tr th:only-of-type {\n        vertical-align: middle;\n    }\n\n    .dataframe tbody tr th {\n        vertical-align: top;\n    }\n\n    .dataframe thead th {\n        text-align: right;\n    }\n</style>\n<table border=\"1\" class=\"dataframe\">\n  <thead>\n    <tr style=\"text-align: right;\">\n      <th></th>\n      <th>0</th>\n      <th>1</th>\n      <th>2</th>\n    </tr>\n  </thead>\n  <tbody>\n    <tr>\n      <th>0</th>\n      <td>../data/auto\\128j16m0.toml</td>\n      <td>4523.627438</td>\n      <td>972069.0</td>\n    </tr>\n    <tr>\n      <th>1</th>\n      <td>../data/auto\\128j2m0.toml</td>\n      <td>431.677663</td>\n      <td>824552.0</td>\n    </tr>\n    <tr>\n      <th>2</th>\n      <td>../data/auto\\128j4m0.toml</td>\n      <td>1006.711800</td>\n      <td>882949.0</td>\n    </tr>\n    <tr>\n      <th>3</th>\n      <td>../data/auto\\128j8m0.toml</td>\n      <td>1934.950913</td>\n      <td>909126.0</td>\n    </tr>\n    <tr>\n      <th>4</th>\n      <td>../data/auto\\16j16m0.toml</td>\n      <td>1.690686</td>\n      <td>143070.0</td>\n    </tr>\n    <tr>\n      <th>5</th>\n      <td>../data/auto\\16j2m0.toml</td>\n      <td>0.205009</td>\n      <td>109056.0</td>\n    </tr>\n    <tr>\n      <th>6</th>\n      <td>../data/auto\\16j4m0.toml</td>\n      <td>0.437964</td>\n      <td>115703.0</td>\n    </tr>\n    <tr>\n      <th>7</th>\n      <td>../data/auto\\16j8m0.toml</td>\n      <td>0.896021</td>\n      <td>133131.0</td>\n    </tr>\n    <tr>\n      <th>8</th>\n      <td>../data/auto\\2j16m0.toml</td>\n      <td>0.005046</td>\n      <td>19867.0</td>\n    </tr>\n    <tr>\n      <th>9</th>\n      <td>../data/auto\\2j2m0.toml</td>\n      <td>0.001276</td>\n      <td>7103.0</td>\n    </tr>\n    <tr>\n      <th>10</th>\n      <td>../data/auto\\2j4m0.toml</td>\n      <td>0.001619</td>\n      <td>16297.0</td>\n    </tr>\n    <tr>\n      <th>11</th>\n      <td>../data/auto\\2j8m0.toml</td>\n      <td>0.002197</td>\n      <td>20095.0</td>\n    </tr>\n    <tr>\n      <th>12</th>\n      <td>../data/auto\\32j16m0.toml</td>\n      <td>19.684068</td>\n      <td>332060.0</td>\n    </tr>\n    <tr>\n      <th>13</th>\n      <td>../data/auto\\32j2m0.toml</td>\n      <td>2.137118</td>\n      <td>192940.0</td>\n    </tr>\n    <tr>\n      <th>14</th>\n      <td>../data/auto\\32j4m0.toml</td>\n      <td>4.632057</td>\n      <td>264553.0</td>\n    </tr>\n    <tr>\n      <th>15</th>\n      <td>../data/auto\\32j8m0.toml</td>\n      <td>9.841995</td>\n      <td>293744.0</td>\n    </tr>\n    <tr>\n      <th>16</th>\n      <td>../data/auto\\4j16m0.toml</td>\n      <td>0.035184</td>\n      <td>31377.0</td>\n    </tr>\n    <tr>\n      <th>17</th>\n      <td>../data/auto\\4j2m0.toml</td>\n      <td>0.004535</td>\n      <td>20691.0</td>\n    </tr>\n    <tr>\n      <th>18</th>\n      <td>../data/auto\\4j4m0.toml</td>\n      <td>0.008819</td>\n      <td>26224.0</td>\n    </tr>\n    <tr>\n      <th>19</th>\n      <td>../data/auto\\4j8m0.toml</td>\n      <td>0.015997</td>\n      <td>29153.0</td>\n    </tr>\n    <tr>\n      <th>20</th>\n      <td>../data/auto\\64j16m0.toml</td>\n      <td>253.817460</td>\n      <td>536958.0</td>\n    </tr>\n    <tr>\n      <th>21</th>\n      <td>../data/auto\\64j2m0.toml</td>\n      <td>28.951893</td>\n      <td>374115.0</td>\n    </tr>\n    <tr>\n      <th>22</th>\n      <td>../data/auto\\64j4m0.toml</td>\n      <td>64.656487</td>\n      <td>455926.0</td>\n    </tr>\n    <tr>\n      <th>23</th>\n      <td>../data/auto\\64j8m0.toml</td>\n      <td>123.805911</td>\n      <td>486282.0</td>\n    </tr>\n    <tr>\n      <th>24</th>\n      <td>../data/auto\\8j16m0.toml</td>\n      <td>0.210440</td>\n      <td>74315.0</td>\n    </tr>\n    <tr>\n      <th>25</th>\n      <td>../data/auto\\8j2m0.toml</td>\n      <td>0.025945</td>\n      <td>53364.0</td>\n    </tr>\n    <tr>\n      <th>26</th>\n      <td>../data/auto\\8j4m0.toml</td>\n      <td>0.049527</td>\n      <td>53081.0</td>\n    </tr>\n    <tr>\n      <th>27</th>\n      <td>../data/auto\\8j8m0.toml</td>\n      <td>0.103826</td>\n      <td>63297.0</td>\n    </tr>\n  </tbody>\n</table>\n</div>"
     },
     "metadata": {},
     "execution_count": 65
    }
   ],
   "source": []
  },
  {
   "cell_type": "code",
   "execution_count": 69,
   "metadata": {},
   "outputs": [
    {
     "output_type": "execute_result",
     "data": {
      "text/plain": "                          file    prep_time  max_end_time jobs machines\n0   ../data/auto\\128j16m0.toml  4523.627438      972069.0  128       16\n1    ../data/auto\\128j2m0.toml   431.677663      824552.0  128        2\n2    ../data/auto\\128j4m0.toml  1006.711800      882949.0  128        4\n3    ../data/auto\\128j8m0.toml  1934.950913      909126.0  128        8\n4    ../data/auto\\16j16m0.toml     1.690686      143070.0   16       16\n5     ../data/auto\\16j2m0.toml     0.205009      109056.0   16        2\n6     ../data/auto\\16j4m0.toml     0.437964      115703.0   16        4\n7     ../data/auto\\16j8m0.toml     0.896021      133131.0   16        8\n8     ../data/auto\\2j16m0.toml     0.005046       19867.0    2       16\n9      ../data/auto\\2j2m0.toml     0.001276        7103.0    2        2\n10     ../data/auto\\2j4m0.toml     0.001619       16297.0    2        4\n11     ../data/auto\\2j8m0.toml     0.002197       20095.0    2        8\n12   ../data/auto\\32j16m0.toml    19.684068      332060.0   32       16\n13    ../data/auto\\32j2m0.toml     2.137118      192940.0   32        2\n14    ../data/auto\\32j4m0.toml     4.632057      264553.0   32        4\n15    ../data/auto\\32j8m0.toml     9.841995      293744.0   32        8\n16    ../data/auto\\4j16m0.toml     0.035184       31377.0    4       16\n17     ../data/auto\\4j2m0.toml     0.004535       20691.0    4        2\n18     ../data/auto\\4j4m0.toml     0.008819       26224.0    4        4\n19     ../data/auto\\4j8m0.toml     0.015997       29153.0    4        8\n20   ../data/auto\\64j16m0.toml   253.817460      536958.0   64       16\n21    ../data/auto\\64j2m0.toml    28.951893      374115.0   64        2\n22    ../data/auto\\64j4m0.toml    64.656487      455926.0   64        4\n23    ../data/auto\\64j8m0.toml   123.805911      486282.0   64        8\n24    ../data/auto\\8j16m0.toml     0.210440       74315.0    8       16\n25     ../data/auto\\8j2m0.toml     0.025945       53364.0    8        2\n26     ../data/auto\\8j4m0.toml     0.049527       53081.0    8        4\n27     ../data/auto\\8j8m0.toml     0.103826       63297.0    8        8",
      "text/html": "<div>\n<style scoped>\n    .dataframe tbody tr th:only-of-type {\n        vertical-align: middle;\n    }\n\n    .dataframe tbody tr th {\n        vertical-align: top;\n    }\n\n    .dataframe thead th {\n        text-align: right;\n    }\n</style>\n<table border=\"1\" class=\"dataframe\">\n  <thead>\n    <tr style=\"text-align: right;\">\n      <th></th>\n      <th>file</th>\n      <th>prep_time</th>\n      <th>max_end_time</th>\n      <th>jobs</th>\n      <th>machines</th>\n    </tr>\n  </thead>\n  <tbody>\n    <tr>\n      <th>0</th>\n      <td>../data/auto\\128j16m0.toml</td>\n      <td>4523.627438</td>\n      <td>972069.0</td>\n      <td>128</td>\n      <td>16</td>\n    </tr>\n    <tr>\n      <th>1</th>\n      <td>../data/auto\\128j2m0.toml</td>\n      <td>431.677663</td>\n      <td>824552.0</td>\n      <td>128</td>\n      <td>2</td>\n    </tr>\n    <tr>\n      <th>2</th>\n      <td>../data/auto\\128j4m0.toml</td>\n      <td>1006.711800</td>\n      <td>882949.0</td>\n      <td>128</td>\n      <td>4</td>\n    </tr>\n    <tr>\n      <th>3</th>\n      <td>../data/auto\\128j8m0.toml</td>\n      <td>1934.950913</td>\n      <td>909126.0</td>\n      <td>128</td>\n      <td>8</td>\n    </tr>\n    <tr>\n      <th>4</th>\n      <td>../data/auto\\16j16m0.toml</td>\n      <td>1.690686</td>\n      <td>143070.0</td>\n      <td>16</td>\n      <td>16</td>\n    </tr>\n    <tr>\n      <th>5</th>\n      <td>../data/auto\\16j2m0.toml</td>\n      <td>0.205009</td>\n      <td>109056.0</td>\n      <td>16</td>\n      <td>2</td>\n    </tr>\n    <tr>\n      <th>6</th>\n      <td>../data/auto\\16j4m0.toml</td>\n      <td>0.437964</td>\n      <td>115703.0</td>\n      <td>16</td>\n      <td>4</td>\n    </tr>\n    <tr>\n      <th>7</th>\n      <td>../data/auto\\16j8m0.toml</td>\n      <td>0.896021</td>\n      <td>133131.0</td>\n      <td>16</td>\n      <td>8</td>\n    </tr>\n    <tr>\n      <th>8</th>\n      <td>../data/auto\\2j16m0.toml</td>\n      <td>0.005046</td>\n      <td>19867.0</td>\n      <td>2</td>\n      <td>16</td>\n    </tr>\n    <tr>\n      <th>9</th>\n      <td>../data/auto\\2j2m0.toml</td>\n      <td>0.001276</td>\n      <td>7103.0</td>\n      <td>2</td>\n      <td>2</td>\n    </tr>\n    <tr>\n      <th>10</th>\n      <td>../data/auto\\2j4m0.toml</td>\n      <td>0.001619</td>\n      <td>16297.0</td>\n      <td>2</td>\n      <td>4</td>\n    </tr>\n    <tr>\n      <th>11</th>\n      <td>../data/auto\\2j8m0.toml</td>\n      <td>0.002197</td>\n      <td>20095.0</td>\n      <td>2</td>\n      <td>8</td>\n    </tr>\n    <tr>\n      <th>12</th>\n      <td>../data/auto\\32j16m0.toml</td>\n      <td>19.684068</td>\n      <td>332060.0</td>\n      <td>32</td>\n      <td>16</td>\n    </tr>\n    <tr>\n      <th>13</th>\n      <td>../data/auto\\32j2m0.toml</td>\n      <td>2.137118</td>\n      <td>192940.0</td>\n      <td>32</td>\n      <td>2</td>\n    </tr>\n    <tr>\n      <th>14</th>\n      <td>../data/auto\\32j4m0.toml</td>\n      <td>4.632057</td>\n      <td>264553.0</td>\n      <td>32</td>\n      <td>4</td>\n    </tr>\n    <tr>\n      <th>15</th>\n      <td>../data/auto\\32j8m0.toml</td>\n      <td>9.841995</td>\n      <td>293744.0</td>\n      <td>32</td>\n      <td>8</td>\n    </tr>\n    <tr>\n      <th>16</th>\n      <td>../data/auto\\4j16m0.toml</td>\n      <td>0.035184</td>\n      <td>31377.0</td>\n      <td>4</td>\n      <td>16</td>\n    </tr>\n    <tr>\n      <th>17</th>\n      <td>../data/auto\\4j2m0.toml</td>\n      <td>0.004535</td>\n      <td>20691.0</td>\n      <td>4</td>\n      <td>2</td>\n    </tr>\n    <tr>\n      <th>18</th>\n      <td>../data/auto\\4j4m0.toml</td>\n      <td>0.008819</td>\n      <td>26224.0</td>\n      <td>4</td>\n      <td>4</td>\n    </tr>\n    <tr>\n      <th>19</th>\n      <td>../data/auto\\4j8m0.toml</td>\n      <td>0.015997</td>\n      <td>29153.0</td>\n      <td>4</td>\n      <td>8</td>\n    </tr>\n    <tr>\n      <th>20</th>\n      <td>../data/auto\\64j16m0.toml</td>\n      <td>253.817460</td>\n      <td>536958.0</td>\n      <td>64</td>\n      <td>16</td>\n    </tr>\n    <tr>\n      <th>21</th>\n      <td>../data/auto\\64j2m0.toml</td>\n      <td>28.951893</td>\n      <td>374115.0</td>\n      <td>64</td>\n      <td>2</td>\n    </tr>\n    <tr>\n      <th>22</th>\n      <td>../data/auto\\64j4m0.toml</td>\n      <td>64.656487</td>\n      <td>455926.0</td>\n      <td>64</td>\n      <td>4</td>\n    </tr>\n    <tr>\n      <th>23</th>\n      <td>../data/auto\\64j8m0.toml</td>\n      <td>123.805911</td>\n      <td>486282.0</td>\n      <td>64</td>\n      <td>8</td>\n    </tr>\n    <tr>\n      <th>24</th>\n      <td>../data/auto\\8j16m0.toml</td>\n      <td>0.210440</td>\n      <td>74315.0</td>\n      <td>8</td>\n      <td>16</td>\n    </tr>\n    <tr>\n      <th>25</th>\n      <td>../data/auto\\8j2m0.toml</td>\n      <td>0.025945</td>\n      <td>53364.0</td>\n      <td>8</td>\n      <td>2</td>\n    </tr>\n    <tr>\n      <th>26</th>\n      <td>../data/auto\\8j4m0.toml</td>\n      <td>0.049527</td>\n      <td>53081.0</td>\n      <td>8</td>\n      <td>4</td>\n    </tr>\n    <tr>\n      <th>27</th>\n      <td>../data/auto\\8j8m0.toml</td>\n      <td>0.103826</td>\n      <td>63297.0</td>\n      <td>8</td>\n      <td>8</td>\n    </tr>\n  </tbody>\n</table>\n</div>"
     },
     "metadata": {},
     "execution_count": 69
    }
   ],
   "source": [
    "op_times_df['jobs'] = op_times_df['file'].str.extract(r'^[^\\d]+(\\d+)j.*$')\n",
    "op_times_df['machines'] = op_times_df['file'].str.extract(r'^[^\\d]+\\d+j(\\d+)m.*$')\n",
    "op_times_df\n"
   ]
  },
  {
   "cell_type": "code",
   "execution_count": null,
   "metadata": {},
   "outputs": [],
   "source": []
  }
 ]
}