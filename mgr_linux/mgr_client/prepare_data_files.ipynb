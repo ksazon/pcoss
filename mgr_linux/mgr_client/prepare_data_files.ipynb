{
 "metadata": {
  "language_info": {
   "codemirror_mode": {
    "name": "ipython",
    "version": 3
   },
   "file_extension": ".py",
   "mimetype": "text/x-python",
   "name": "python",
   "nbconvert_exporter": "python",
   "pygments_lexer": "ipython3",
   "version": "3.8.5-final"
  },
  "orig_nbformat": 2,
  "kernelspec": {
   "name": "python_defaultSpec_1600119505014",
   "display_name": "Python 3.8.5 64-bit ('ProgramData': virtualenv)"
  }
 },
 "nbformat": 4,
 "nbformat_minor": 2,
 "cells": [
  {
   "cell_type": "code",
   "execution_count": 36,
   "metadata": {},
   "outputs": [],
   "source": [
    "import pandas as pd\n",
    "import numpy as np\n",
    "import toml\n",
    "from os.path import join\n",
    "import glob"
   ]
  },
  {
   "cell_type": "code",
   "execution_count": 39,
   "metadata": {},
   "outputs": [],
   "source": [
    "jobs_max_size = 128\n",
    "machines_max_size = 16\n",
    "dir_path = r'../data/auto/'"
   ]
  },
  {
   "cell_type": "code",
   "execution_count": 46,
   "metadata": {
    "tags": []
   },
   "outputs": [],
   "source": [
    "sizes = lambda size: [int(2**i) for i in range(1, int(np.log2(size)+1))]\n",
    "job_sizes = sizes(jobs_max_size)\n",
    "machine_sizes = sizes(machines_max_size)\n",
    "conflicting_machines = {\n",
    "    1: [],\n",
    "    2: [],\n",
    "    4: [(1, 2)],\n",
    "    8: [(1, 2), (5, 7)],\n",
    "    16: [(1, 2), (5, 7), (9, 10), (13, 14)],\n",
    "    32: [(1, 2), (5, 7), (9, 10), (13, 14), (15, 16), (17, 18), (20, 25), (27, 30)]\n",
    "}\n",
    "\n",
    "for jobs_cnt in job_sizes:\n",
    "    for machines_cnt in machine_sizes:\n",
    "        file_name = f'{jobs_cnt}j{machines_cnt}m0'\n",
    "        csv_file_path = f'{join(dir_path, file_name)}.csv'\n",
    "\n",
    "        np.savetxt(\n",
    "            csv_file_path,\n",
    "            np.random.rand(jobs_cnt, machines_cnt) * 100,\n",
    "            fmt='%.2f',\n",
    "            sep=',')\n",
    "\n",
    "        toml_dict = {\n",
    "            'title': file_name,\n",
    "            'info': f'{jobs_cnt} jobs {machines_cnt} machines example 0',\n",
    "            'files':\n",
    "            {\n",
    "                'data': csv_file_path,\n",
    "                'processing_times': csv_file_path\n",
    "            },\n",
    "            'problem_data':\n",
    "            {\n",
    "                'index_cols': [],\n",
    "                'grouping_cols': [],\n",
    "                'conflicting_machines': conflicting_machines[machines_cnt]\n",
    "            },\n",
    "            'algorithm_config':\n",
    "            {\n",
    "                'beam_witdh': 5\n",
    "            },\n",
    "        }\n",
    "\n",
    "        with open(join(dir_path, f'{file_name}.toml'), 'w') as f:\n",
    "            toml.dump(toml_dict, f)"
   ]
  },
  {
   "cell_type": "code",
   "execution_count": 47,
   "metadata": {},
   "outputs": [
    {
     "output_type": "execute_result",
     "data": {
      "text/plain": "['../data/auto\\\\128j16m0.toml',\n '../data/auto\\\\128j2m0.toml',\n '../data/auto\\\\128j4m0.toml',\n '../data/auto\\\\128j8m0.toml',\n '../data/auto\\\\16j16m0.toml',\n '../data/auto\\\\16j2m0.toml',\n '../data/auto\\\\16j4m0.toml',\n '../data/auto\\\\16j8m0.toml',\n '../data/auto\\\\2j16m0.toml',\n '../data/auto\\\\2j2m0.toml',\n '../data/auto\\\\2j4m0.toml',\n '../data/auto\\\\2j8m0.toml',\n '../data/auto\\\\32j16m0.toml',\n '../data/auto\\\\32j2m0.toml',\n '../data/auto\\\\32j4m0.toml',\n '../data/auto\\\\32j8m0.toml',\n '../data/auto\\\\4j16m0.toml',\n '../data/auto\\\\4j2m0.toml',\n '../data/auto\\\\4j4m0.toml',\n '../data/auto\\\\4j8m0.toml',\n '../data/auto\\\\64j16m0.toml',\n '../data/auto\\\\64j2m0.toml',\n '../data/auto\\\\64j4m0.toml',\n '../data/auto\\\\64j8m0.toml',\n '../data/auto\\\\8j16m0.toml',\n '../data/auto\\\\8j2m0.toml',\n '../data/auto\\\\8j4m0.toml',\n '../data/auto\\\\8j8m0.toml']"
     },
     "metadata": {},
     "execution_count": 47
    }
   ],
   "source": [
    "glob.glob(r'../data/auto/*.toml')"
   ]
  },
  {
   "cell_type": "code",
   "execution_count": null,
   "metadata": {},
   "outputs": [],
   "source": []
  }
 ]
}